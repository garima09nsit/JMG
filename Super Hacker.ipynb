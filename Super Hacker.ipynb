{
 "cells": [
  {
   "cell_type": "markdown",
   "metadata": {},
   "source": [
    "# JMG Super Hacker - Money Tree\n",
    "\n",
    "If you start with \\\\$1 and, with each move, you can either double your money or add another \\\\$1, what is the **smallest** number of moves you have to make to get to a target amount? \n",
    "\n",
    "Write a function `grow(target::Int)` that returns \n",
    "1. Minimum number of steps to reach the target\n",
    "2. A respective string that shows how to reach the target \n",
    "3. An illustrated path that shows the actual money growth to the target\n",
    "\n",
    "For example, to get to a target of \\\\$10:\n",
    "\n",
    "```\n",
    "julia> grow(10)\n",
    "(steps = 4, instructions = \"+*+*\", path = [1, 2, 4, 5, 10])\n",
    "```\n",
    "\n",
    "Submit your solution to get to a target of $123,456."
   ]
  }
 ],
 "metadata": {
  "kernelspec": {
   "display_name": "Julia 1.0.1",
   "language": "julia",
   "name": "julia-1.0"
  },
  "language_info": {
   "file_extension": ".jl",
   "mimetype": "application/julia",
   "name": "julia",
   "version": "1.0.1"
  }
 },
 "nbformat": 4,
 "nbformat_minor": 2
}
